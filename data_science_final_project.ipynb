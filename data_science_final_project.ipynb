{
 "cells": [
  {
   "cell_type": "markdown",
   "id": "98133786-7655-41b2-8218-c00958299b86",
   "metadata": {},
   "source": [
    "# Titre du Notebook : Introduction à la Data Science"
   ]
  },
  {
   "cell_type": "markdown",
   "id": "2239a342-ff20-4775-a5bf-475664c64978",
   "metadata": {},
   "source": [
    "# Titre du Notebook : Introduction à la Data Science"
   ]
  },
  {
   "cell_type": "markdown",
   "id": "77630553-9e59-4aa9-bde9-92eea3de5aff",
   "metadata": {},
   "source": [
    "## Introduction\n",
    "Ce notebook est un guide d'introduction aux concepts de base de la Data Science, incluant les langages, bibliothèques et outils couramment utilisés."
   ]
  },
  {
   "cell_type": "markdown",
   "id": "dbc713f8-a233-4dc2-97e1-71d9630a01d8",
   "metadata": {},
   "source": [
    "### Langages de Data Science\n",
    "- Python\n",
    "- R\n",
    "- SQL\n",
    "  "
   ]
  },
  {
   "cell_type": "markdown",
   "id": "88a51430-a558-4113-9c57-4fd3dea99b43",
   "metadata": {},
   "source": [
    "### Bibliothèques de Data Science\n",
    "- Pandas (Python)\n",
    "- NumPy (Python)\n",
    "- Scikit-learn (Python)\n",
    "- TensorFlow (Python)\n",
    "- ggplot2 (R)"
   ]
  },
  {
   "cell_type": "markdown",
   "id": "9e6775e7-2749-4d94-b591-fc1ddcda327f",
   "metadata": {},
   "source": [
    "### Outils de Data Science\n",
    "| Outil          | Description                     |\n",
    "|----------------|---------------------------------|\n",
    "| Jupyter        | Environnement interactif        |\n",
    "| VS Code        | Éditeur de code                 |\n",
    "| Tableau        | Visualisation de données        |\n",
    "| Apache Spark   | Traitement Big Data             |"
   ]
  },
  {
   "cell_type": "markdown",
   "id": "b15d3beb-6088-478b-88e1-a05da1c561d4",
   "metadata": {},
   "source": [
    "### Exemples d'expressions arithmétiques\n",
    "Voici quelques exemples d'opérations mathématiques en Python :\n",
    "- Addition (`+`)\n",
    "- Multiplication (`*`)\n",
    "- Division (`/`)"
   ]
  },
  {
   "cell_type": "code",
   "execution_count": null,
   "id": "5f919204-fcc4-4ec5-afc5-c59ab486dbc0",
   "metadata": {},
   "outputs": [],
   "source": [
    "# Exemple de multiplication et addition\n",
    "a = 5\n",
    "b = 10\n",
    "produit = a * b\n",
    "somme = a + b\n",
    "print(\"Produit :\", produit)\n",
    "print(\"Somme :\", somme)"
   ]
  },
  {
   "cell_type": "code",
   "execution_count": null,
   "id": "26e58496-19c7-4e6c-a0df-f404a8077d7f",
   "metadata": {},
   "outputs": [],
   "source": [
    "# Conversion de minutes en heures\n",
    "minutes = 150\n",
    "heures = minutes // 60\n",
    "minutes_restantes = minutes % 60\n",
    "print(f\"{minutes} minutes = {heures}h{minutes_restantes}\")"
   ]
  },
  {
   "cell_type": "markdown",
   "id": "bde7a20a-2b4b-4f5e-9c23-98aafd06d6e4",
   "metadata": {},
   "source": [
    "### Objectifs\n",
    "- Découvrir les langages de Data Science.\n",
    "- Explorer les bibliothèques et outils courants.\n",
    "- Pratiquer des opérations de base en Python."
   ]
  },
  {
   "cell_type": "markdown",
   "id": "8cc797df-b6f8-48c7-981f-8df1209409ba",
   "metadata": {},
   "source": [
    "### Auteur\n",
    "**Nom :** ZOUHAIR SERRAR  \n",
    "**Date :** 07/07/2025"
   ]
  }
 ],
 "metadata": {
  "kernelspec": {
   "display_name": "Python 3 (ipykernel)",
   "language": "python",
   "name": "python3"
  },
  "language_info": {
   "codemirror_mode": {
    "name": "ipython",
    "version": 3
   },
   "file_extension": ".py",
   "mimetype": "text/x-python",
   "name": "python",
   "nbconvert_exporter": "python",
   "pygments_lexer": "ipython3",
   "version": "3.12.8"
  }
 },
 "nbformat": 4,
 "nbformat_minor": 5
}
